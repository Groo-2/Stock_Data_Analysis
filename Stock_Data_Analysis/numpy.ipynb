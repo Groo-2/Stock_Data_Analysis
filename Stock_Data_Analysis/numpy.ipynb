{
 "cells": [
  {
   "cell_type": "markdown",
   "id": "98248da0",
   "metadata": {},
   "source": [
    "증권데이터 분석 깃허브 페이지"
   ]
  },
  {
   "cell_type": "markdown",
   "id": "87ccf85c",
   "metadata": {},
   "source": [
    "https://github.com/sharebook-kr/book-pandas-for-finance"
   ]
  },
  {
   "cell_type": "code",
   "execution_count": 1,
   "id": "eb981fc0",
   "metadata": {},
   "outputs": [
    {
     "name": "stdout",
     "output_type": "stream",
     "text": [
      "Collecting numpy\n",
      "  Downloading numpy-1.23.0-cp310-cp310-win_amd64.whl (14.6 MB)\n",
      "     --------------------------------------- 14.6/14.6 MB 46.9 MB/s eta 0:00:00\n",
      "Installing collected packages: numpy\n",
      "Successfully installed numpy-1.23.0\n"
     ]
    },
    {
     "name": "stderr",
     "output_type": "stream",
     "text": [
      "WARNING: You are using pip version 22.0.4; however, version 22.1.2 is available.\n",
      "You should consider upgrading via the 'C:\\Users\\0103t\\AppData\\Local\\Programs\\Python\\Python310\\python.exe -m pip install --upgrade pip' command.\n"
     ]
    }
   ],
   "source": [
    "!pip install numpy"
   ]
  },
  {
   "cell_type": "code",
   "execution_count": 3,
   "id": "bc42c90d",
   "metadata": {},
   "outputs": [],
   "source": [
    "import numpy as np"
   ]
  },
  {
   "cell_type": "markdown",
   "id": "a8735393",
   "metadata": {},
   "source": [
    "넘파이는 행렬이나 다차원 배열을 관리하기 위한 ndarray 객체를 사용한다.\n",
    "\n",
    "array 함수에 파이썬 리스트를 넘겨주면 ndarray 타입의 객체를 반환한다."
   ]
  },
  {
   "cell_type": "code",
   "execution_count": 5,
   "id": "371c4006",
   "metadata": {},
   "outputs": [
    {
     "name": "stdout",
     "output_type": "stream",
     "text": [
      "[1 2 3]\n",
      "<class 'numpy.ndarray'>\n"
     ]
    }
   ],
   "source": [
    "data = [1, 2, 3]\n",
    "arr = np.array(data)\n",
    "print(arr)\n",
    "print(type(arr))"
   ]
  },
  {
   "cell_type": "markdown",
   "id": "b21762d3",
   "metadata": {},
   "source": [
    "arr[row, column] 과 arr[row][column]은 같은 표현.\n",
    "\n",
    "arr[:,c] : 열벡터 출력 가능."
   ]
  },
  {
   "cell_type": "code",
   "execution_count": 8,
   "id": "3d4c3872",
   "metadata": {},
   "outputs": [
    {
     "name": "stdout",
     "output_type": "stream",
     "text": [
      "[1 2 3]\n",
      "[1 4 7]\n"
     ]
    }
   ],
   "source": [
    "data2d = [\n",
    "    [1, 2, 3],\n",
    "    [4, 5, 6],\n",
    "    [7, 8, 9]\n",
    "]\n",
    "\n",
    "arr = np.array(data2d)\n",
    "print(arr[0])   # 행\n",
    "print(arr[:,0]) # 열"
   ]
  },
  {
   "cell_type": "markdown",
   "id": "060434fe",
   "metadata": {},
   "source": [
    "ndarray 객체는 ,(콤마)없이 print."
   ]
  },
  {
   "cell_type": "code",
   "execution_count": 7,
   "id": "cb0218d9",
   "metadata": {},
   "outputs": [
    {
     "name": "stdout",
     "output_type": "stream",
     "text": [
      "[1 2 3 4]\n",
      "<class 'numpy.ndarray'>\n"
     ]
    }
   ],
   "source": [
    "data1 = [1, 2, 3, 4]\n",
    "arr1 = np.array(data1)\n",
    "print(arr1)\n",
    "print(type(arr1))"
   ]
  },
  {
   "cell_type": "markdown",
   "id": "b495a644",
   "metadata": {},
   "source": [
    "shape은 ndarray의 크기 정보.\n",
    "ndim은 차원 정보.\n",
    "dtype은 데이터 타입.\n",
    "\n",
    "*shape은 튜플로 저장"
   ]
  },
  {
   "cell_type": "code",
   "execution_count": 13,
   "id": "a1a9e313",
   "metadata": {},
   "outputs": [
    {
     "name": "stdout",
     "output_type": "stream",
     "text": [
      "[[1 2]\n",
      " [3 4]]\n",
      "\n",
      "(2, 2)\n",
      "2\n",
      "int32\n"
     ]
    }
   ],
   "source": [
    "data2 = [\n",
    "    [1, 2],\n",
    "    [3, 4]\n",
    "]\n",
    "arr2 = np.array(data2)\n",
    "print(arr2, end=\"\\n\\n\")\n",
    "print(arr2.shape)\n",
    "print(arr2.ndim)\n",
    "print(arr2.dtype)"
   ]
  },
  {
   "cell_type": "markdown",
   "id": "3f371334",
   "metadata": {},
   "source": [
    "1차원 데이터는 튜플에 하나의 값이 들어있다.\n",
    "\n",
    "row의 길이가 아닌 데이터의 길이가 들어있다."
   ]
  },
  {
   "cell_type": "code",
   "execution_count": 14,
   "id": "5bdf574a",
   "metadata": {},
   "outputs": [
    {
     "name": "stdout",
     "output_type": "stream",
     "text": [
      "(4,)\n"
     ]
    }
   ],
   "source": [
    "print(arr1.shape)"
   ]
  },
  {
   "cell_type": "markdown",
   "id": "8c6c15e8",
   "metadata": {},
   "source": [
    "zeros와 ones 함수는 기본적으로 float 타입의 데이터로 저장한다."
   ]
  },
  {
   "cell_type": "code",
   "execution_count": 15,
   "id": "c15e0ffd",
   "metadata": {},
   "outputs": [
    {
     "name": "stdout",
     "output_type": "stream",
     "text": [
      "[[0. 0. 0. 0.]\n",
      " [0. 0. 0. 0.]\n",
      " [0. 0. 0. 0.]]\n"
     ]
    }
   ],
   "source": [
    "size = (3, 4)\n",
    "print(np.zeros(size))"
   ]
  },
  {
   "cell_type": "markdown",
   "id": "ae5c3611",
   "metadata": {},
   "source": [
    "arange 함수는 range 함수와 비슷한 기능을 한다.\n",
    "\n",
    "arange 함수는 실수 범위도 생성할 수 있다."
   ]
  },
  {
   "cell_type": "code",
   "execution_count": 16,
   "id": "31836a06",
   "metadata": {},
   "outputs": [
    {
     "name": "stdout",
     "output_type": "stream",
     "text": [
      "[0 1 2 3 4]\n",
      "[1 2 3 4]\n",
      "[1 3]\n"
     ]
    }
   ],
   "source": [
    "print(np.arange(5))\n",
    "print(np.arange(1, 5))\n",
    "print(np.arange(1, 5, 2))"
   ]
  },
  {
   "cell_type": "markdown",
   "id": "8d253218",
   "metadata": {},
   "source": [
    "reshape 함수는 원본 데이터를 고려해야 한다.\n",
    "\n",
    "원본 데이터가 맞지 않으면 에러가 발생한다."
   ]
  },
  {
   "cell_type": "code",
   "execution_count": 17,
   "id": "c929f93f",
   "metadata": {},
   "outputs": [
    {
     "name": "stdout",
     "output_type": "stream",
     "text": [
      "[[0 1 2]\n",
      " [3 4 5]]\n"
     ]
    }
   ],
   "source": [
    "ndarr1 = np.arange(6)\n",
    "ndarr2 = ndarr1.reshape(2, 3)\n",
    "print(ndarr2)"
   ]
  },
  {
   "cell_type": "markdown",
   "id": "3bc7eae0",
   "metadata": {},
   "source": [
    "대용량의 데이터를 다룰 때는 가능하면 작은 공간에 저장하는 것이 좋다."
   ]
  },
  {
   "cell_type": "markdown",
   "id": "810c4c3e",
   "metadata": {},
   "source": [
    "dtype안의 kind와 alignment 속성을 사용하면 축약어 정보도 확인할 수 있다."
   ]
  },
  {
   "cell_type": "code",
   "execution_count": 21,
   "id": "8674bcb8",
   "metadata": {},
   "outputs": [
    {
     "name": "stdout",
     "output_type": "stream",
     "text": [
      "uint8\n",
      "u\n",
      "1\n"
     ]
    }
   ],
   "source": [
    "arr = np.array([1, 2, 3], dtype=np.uint8)\n",
    "print(arr.dtype)\n",
    "print(arr.dtype.kind)\n",
    "print(arr.dtype.alignment)"
   ]
  },
  {
   "cell_type": "markdown",
   "id": "7f836b52",
   "metadata": {},
   "source": [
    "astype 메서드는 새로운 ndarray 객체를 리턴하므로 결과를 변수에 바인딩해서 사용해야 한다."
   ]
  },
  {
   "cell_type": "code",
   "execution_count": 22,
   "id": "8a3cd33d",
   "metadata": {},
   "outputs": [
    {
     "name": "stdout",
     "output_type": "stream",
     "text": [
      "int8\n"
     ]
    }
   ],
   "source": [
    "arr = arr.astype('int8')\n",
    "print(arr.dtype)"
   ]
  },
  {
   "cell_type": "markdown",
   "id": "48177833",
   "metadata": {},
   "source": [
    "int8은 -128 ~ 127까지만 표현할 수 있기 때문에 255를 표현할 수 없다.\n",
    "\n",
    "데이터 타입을 변경할 때는 데이터의 범위에 주의해야 한다."
   ]
  },
  {
   "cell_type": "code",
   "execution_count": 23,
   "id": "8e48431b",
   "metadata": {},
   "outputs": [
    {
     "name": "stdout",
     "output_type": "stream",
     "text": [
      "[  0 255]\n",
      "[ 0 -1]\n"
     ]
    }
   ],
   "source": [
    "a = np.array([0, 255], dtype = np.uint8)\n",
    "b = a.astype('int8')\n",
    "print(a)\n",
    "print(b)"
   ]
  },
  {
   "cell_type": "markdown",
   "id": "2b82c188",
   "metadata": {},
   "source": [
    "높은 비트로 데이터를 표현하는 것이 정확하지만, 저장 공간까지 고려해서 적절한 타입을 선택해야 한다.\n",
    "\n",
    "데이터의 정확도가 중요한 연산의 겅우에는 실수 연산을 최소화하는 것이 중요하다."
   ]
  },
  {
   "cell_type": "code",
   "execution_count": 24,
   "id": "e9d47dbc",
   "metadata": {},
   "outputs": [
    {
     "name": "stdout",
     "output_type": "stream",
     "text": [
      "[1.333]\n",
      "[1.333333]\n"
     ]
    }
   ],
   "source": [
    "a16 = np.array([1.333333], dtype = np.float16)\n",
    "a32 = np.array([1.333333], dtype = np.float32)\n",
    "print(a16)\n",
    "print(a32)"
   ]
  },
  {
   "cell_type": "code",
   "execution_count": 25,
   "id": "269b4818",
   "metadata": {},
   "outputs": [
    {
     "name": "stdout",
     "output_type": "stream",
     "text": [
      "[0.3333]\n",
      "[0.33333334]\n"
     ]
    }
   ],
   "source": [
    "a16 = np.array([1.0], dtype = np.float16)\n",
    "a32 = np.array([1.0], dtype = np.float32)\n",
    "print(a16/3)\n",
    "print(a32/3)"
   ]
  },
  {
   "cell_type": "markdown",
   "id": "3a63d4d8",
   "metadata": {},
   "source": [
    "nan은 Not-a-Number의 약자로 숫자가 아닌 값 혹은 정의되지 않은 숫자를 의미한다.\n",
    "\n",
    "inf 혹은 -inf는 무한대의 숫자를 뜻한다.\n",
    "\n",
    "nan, inf, -inf는 float 형이다."
   ]
  },
  {
   "cell_type": "code",
   "execution_count": 26,
   "id": "6b0c0a84",
   "metadata": {},
   "outputs": [
    {
     "name": "stdout",
     "output_type": "stream",
     "text": [
      "nan <class 'float'>\n",
      "inf <class 'float'>\n",
      "-inf <class 'float'>\n"
     ]
    }
   ],
   "source": [
    "print(np.nan, type(np.nan))\n",
    "print(np.inf, type(np.inf))\n",
    "print(-np.inf, type(-np.inf))"
   ]
  },
  {
   "cell_type": "markdown",
   "id": "41c80eef",
   "metadata": {},
   "source": []
  },
  {
   "cell_type": "code",
   "execution_count": null,
   "id": "c696860d",
   "metadata": {},
   "outputs": [],
   "source": []
  },
  {
   "cell_type": "code",
   "execution_count": null,
   "id": "c8dba547",
   "metadata": {},
   "outputs": [],
   "source": []
  },
  {
   "cell_type": "code",
   "execution_count": null,
   "id": "fc55f5f1",
   "metadata": {},
   "outputs": [],
   "source": []
  },
  {
   "cell_type": "code",
   "execution_count": null,
   "id": "b8522070",
   "metadata": {},
   "outputs": [],
   "source": []
  },
  {
   "cell_type": "code",
   "execution_count": null,
   "id": "84e2be51",
   "metadata": {},
   "outputs": [],
   "source": []
  },
  {
   "cell_type": "code",
   "execution_count": null,
   "id": "d6d5a57e",
   "metadata": {},
   "outputs": [],
   "source": []
  },
  {
   "cell_type": "code",
   "execution_count": null,
   "id": "af446db2",
   "metadata": {},
   "outputs": [],
   "source": []
  },
  {
   "cell_type": "code",
   "execution_count": null,
   "id": "b2f64771",
   "metadata": {},
   "outputs": [],
   "source": []
  },
  {
   "cell_type": "code",
   "execution_count": null,
   "id": "e9f507c8",
   "metadata": {},
   "outputs": [],
   "source": []
  },
  {
   "cell_type": "code",
   "execution_count": null,
   "id": "ab8348c5",
   "metadata": {},
   "outputs": [],
   "source": []
  }
 ],
 "metadata": {
  "kernelspec": {
   "display_name": "Python 3.10.5 64-bit",
   "language": "python",
   "name": "python3"
  },
  "language_info": {
   "codemirror_mode": {
    "name": "ipython",
    "version": 3
   },
   "file_extension": ".py",
   "mimetype": "text/x-python",
   "name": "python",
   "nbconvert_exporter": "python",
   "pygments_lexer": "ipython3",
   "version": "3.10.5"
  },
  "vscode": {
   "interpreter": {
    "hash": "54ede0322410e29c61a09d6eaa6d6119bb41e8eb7fca4110dfa052a5f4f2901d"
   }
  }
 },
 "nbformat": 4,
 "nbformat_minor": 5
}
